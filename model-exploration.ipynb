{
 "cells": [
  {
   "cell_type": "markdown",
   "id": "cc12800f",
   "metadata": {},
   "source": [
    "# TBI Glutamate Modeling\n",
    "\n",
    "This notebook explores the effects of traumatic brain injury on glutamate dynamics using simplified simulation models."
   ]
  },
  {
   "cell_type": "code",
   "execution_count": null,
   "id": "26b06c9e",
   "metadata": {},
   "outputs": [
    {
     "ename": "",
     "evalue": "",
     "output_type": "error",
     "traceback": [
      "\u001b[1;31mRunning cells with 'Python 3.9.13' requires the ipykernel package.\n",
      "\u001b[1;31mRun the following command to install 'ipykernel' into the Python environment. \n",
      "\u001b[1;31mCommand: '/usr/local/bin/python3 -m pip install ipykernel -U --user --force-reinstall'"
     ]
    }
   ],
   "source": [
    "import numpy as np\n",
    "import matplotlib.pyplot as plt\n",
    "from scipy.optimize import curve_fit"
   ]
  },
  {
   "cell_type": "markdown",
   "id": "584985aa",
   "metadata": {},
   "source": [
    "## EPSP vs AMPAR Opening Rate\n",
    "We simulate how changes in AMPAR opening rates influence EPSP levels."
   ]
  },
  {
   "cell_type": "code",
   "execution_count": null,
   "id": "a70fb0d3",
   "metadata": {},
   "outputs": [
    {
     "ename": "",
     "evalue": "",
     "output_type": "error",
     "traceback": [
      "\u001b[1;31mRunning cells with 'Python 3.9.13' requires the ipykernel package.\n",
      "\u001b[1;31mRun the following command to install 'ipykernel' into the Python environment. \n",
      "\u001b[1;31mCommand: '/usr/local/bin/python3 -m pip install ipykernel -U --user --force-reinstall'"
     ]
    }
   ],
   "source": [
    "# Simulated AMPAR opening rates and EPSP\n",
    "ampar_rates = np.linspace(0.01, 1.0, 100)\n",
    "epsp = np.log(ampar_rates * 100 + 1)\n",
    "\n",
    "# Plotting\n",
    "plt.figure(figsize=(8,5))\n",
    "plt.plot(ampar_rates, epsp, label=\"EPSP\", color=\"blue\")\n",
    "plt.xlabel(\"AMPAR Opening Rate\")\n",
    "plt.ylabel(\"EPSP\")\n",
    "plt.title(\"EPSP vs AMPAR Opening Rate\")\n",
    "plt.grid(True)\n",
    "plt.legend()\n",
    "plt.show()"
   ]
  },
  {
   "cell_type": "markdown",
   "id": "2de4ef64",
   "metadata": {},
   "source": [
    "## Recovery Time vs Astrocyte Uptake Rate\n",
    "We model recovery time based on astrocyte glutamate uptake rates."
   ]
  },
  {
   "cell_type": "code",
   "execution_count": null,
   "id": "fed94a92",
   "metadata": {},
   "outputs": [],
   "source": [
    "# Simulated uptake rates\n",
    "uptake_rate = np.linspace(0.001, 0.01, 100)\n",
    "\n",
    "# Two regimes based on provided R^2 distinction\n",
    "recovery_time = np.piecewise(uptake_rate, \n",
    "                              [uptake_rate < 0.0045, uptake_rate >= 0.0045],\n",
    "                              [lambda x: 10 / (x * 200), lambda x: 8 / (x * 180)])\n",
    "\n",
    "# Plot\n",
    "plt.figure(figsize=(8,5))\n",
    "plt.plot(uptake_rate, recovery_time, label=\"Recovery Time\", color=\"green\")\n",
    "plt.xlabel(\"Astrocyte Uptake Rate\")\n",
    "plt.ylabel(\"Recovery Time\")\n",
    "plt.title(\"Recovery Time vs Astrocyte Uptake Rate\")\n",
    "plt.grid(True)\n",
    "plt.legend()\n",
    "plt.show()"
   ]
  }
 ],
 "metadata": {
  "kernelspec": {
   "display_name": "Python 3",
   "language": "python",
   "name": "python3"
  },
  "language_info": {
   "name": "python",
   "version": "3.9.13"
  }
 },
 "nbformat": 4,
 "nbformat_minor": 5
}
