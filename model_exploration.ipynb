# TBI Glutamate Modeling

This notebook explores the effects of traumatic brain injury on glutamate dynamics using simplified simulation models.
import numpy as np
import matplotlib.pyplot as plt
from scipy.optimize import curve_fit
## EPSP vs AMPAR Opening Rate
We simulate how changes in AMPAR opening rates influence EPSP levels.
# Simulated AMPAR opening rates and EPSP
ampar_rates = np.linspace(0.01, 1.0, 100)
epsp = np.log(ampar_rates * 100 + 1)

# Plotting
plt.figure(figsize=(8,5))
plt.plot(ampar_rates, epsp, label="EPSP", color="blue")
plt.xlabel("AMPAR Opening Rate")
plt.ylabel("EPSP")
plt.title("EPSP vs AMPAR Opening Rate")
plt.grid(True)
plt.legend()
plt.show()
## Recovery Time vs Astrocyte Uptake Rate
We model recovery time based on astrocyte glutamate uptake rates.
# Simulated uptake rates
uptake_rate = np.linspace(0.001, 0.01, 100)

# Two regimes based on provided R^2 distinction
recovery_time = np.piecewise(uptake_rate, 
                              [uptake_rate < 0.0045, uptake_rate >= 0.0045],
                              [lambda x: 10 / (x * 200), lambda x: 8 / (x * 180)])

# Plot
plt.figure(figsize=(8,5))
plt.plot(uptake_rate, recovery_time, label="Recovery Time", color="green")
plt.xlabel("Astrocyte Uptake Rate")
plt.ylabel("Recovery Time")
plt.title("Recovery Time vs Astrocyte Uptake Rate")
plt.grid(True)
plt.legend()
plt.show()
